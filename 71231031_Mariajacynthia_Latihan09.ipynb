{
 "cells": [
  {
   "cell_type": "code",
   "execution_count": 15,
   "metadata": {},
   "outputs": [
    {
     "name": "stdout",
     "output_type": "stream",
     "text": [
      "3 nilai terbaik dari yang tertinggi ialah:  [100, 90, 80]\n"
     ]
    }
   ],
   "source": [
    "#soal 9-1 \n",
    "semuanilai = [100, 90, 80, 70, 60, 50, 40, 30]\n",
    "sorted_nilai = sorted(semuanilai, reverse=True)\n",
    "nilaiterbaik = sorted_nilai[:3]\n",
    "\n",
    "print(\"3 nilai terbaik dari yang tertinggi ialah: \", nilaiterbaik)"
   ]
  },
  {
   "cell_type": "code",
   "execution_count": 25,
   "metadata": {},
   "outputs": [
    {
     "name": "stdout",
     "output_type": "stream",
     "text": [
      "user selesai memasukan angka\n"
     ]
    }
   ],
   "source": [
    "#soal 9-2\n",
    "angka = []\n",
    "while True:\n",
    "    masukanangka = input ('input angka (ketik done jika selesai memasukan angka): ')\n",
    "    if masukanangka.lower() == 'done':\n",
    "        print('user selesai memasukan angka')\n",
    "        break\n",
    "    try:\n",
    "        masukan = float(masukanangka)\n",
    "        angka.append(masukan)\n",
    "    except ValueError:\n",
    "        print(\"Input anda tidak valid! Masukan angka atau 'done'.\")\n",
    "    \n",
    "    if angka:\n",
    "        max = max(angka)\n",
    "        min = min(angka)\n",
    "        print(\"angka yang dimasukan: \", angka)\n",
    "        print(\"nilai max dari masukan: \", max)\n",
    "        print(\"nilai min dari masukan: \", min)\n",
    "    else:\n",
    "        print(\"Tidak ada angka yang di inputkan\")"
   ]
  },
  {
   "cell_type": "code",
   "execution_count": 2,
   "metadata": {},
   "outputs": [
    {
     "name": "stdout",
     "output_type": "stream",
     "text": [
      "==================================================== ISI BERITA ====================================================\n",
      "==================================================== ISI BERITA ====================================================\n",
      "On September 7, 1996, at 11:15 p.m. (PDT), Tupac Shakur, a 25-year old American rapper, was fatally shot in a drive-by shooting in Las Vegas, Nevada. The shooting occurred when the car carrying Shakur was stopped at a red light at East Flamingo Road and Koval Lane. \n",
      "Shakur was struck by four rounds fired from a .40-calibre Glock: two in the chest, one in the arm, and one in the thigh. He died from his wounds six days later.\n",
      "On September 29, 2023, 27 years later, Duane \"Keefe D\" Davis was arrested after being indicted by a grand jury for the first-degree murder of Shakur.\n",
      "==================================================== KATA UNIK DALAM FILE ====================================================\n",
      "['On', 'September', '7,', '1996,', 'at', '11:15', 'p.m.', '(PDT),', 'Tupac', 'Shakur,', 'a', '25-year', 'old', 'American', 'rapper,', 'was', 'fatally', 'shot', 'in', 'a', 'drive-by', 'shooting', 'in', 'Las', 'Vegas,', 'Nevada.', 'The', 'shooting', 'occurred', 'when', 'the', 'car', 'carrying', 'Shakur', 'was', 'stopped', 'at', 'a', 'red', 'light', 'at', 'East', 'Flamingo', 'Road', 'and', 'Koval', 'Lane.']\n",
      "['Shakur', 'was', 'struck', 'by', 'four', 'rounds', 'fired', 'from', 'a', '.40-calibre', 'Glock:', 'two', 'in', 'the', 'chest,', 'one', 'in', 'the', 'arm,', 'and', 'one', 'in', 'the', 'thigh.', 'He', 'died', 'from', 'his', 'wounds', 'six', 'days', 'later.']\n",
      "['On', 'September', '29,', '2023,', '27', 'years', 'later,', 'Duane', '\"Keefe', 'D\"', 'Davis', 'was', 'arrested', 'after', 'being', 'indicted', 'by', 'a', 'grand', 'jury', 'for', 'the', 'first-degree', 'murder', 'of', 'Shakur.']\n",
      "==================================================== KATA UNIK DALAM FILE ====================================================\n",
      "['====================================================', 'ISI', 'BERITA', '====================================================']\n",
      "['On', 'September', '7,', '1996,', 'at', '11:15', 'p.m.', '(PDT),', 'Tupac', 'Shakur,', 'a', '25-year', 'old', 'American', 'rapper,', 'was', 'fatally', 'shot', 'in', 'a', 'drive-by', 'shooting', 'in', 'Las', 'Vegas,', 'Nevada.', 'The', 'shooting', 'occurred', 'when', 'the', 'car', 'carrying', 'Shakur', 'was', 'stopped', 'at', 'a', 'red', 'light', 'at', 'East', 'Flamingo', 'Road', 'and', 'Koval', 'Lane.']\n",
      "['Shakur', 'was', 'struck', 'by', 'four', 'rounds', 'fired', 'from', 'a', '.40-calibre', 'Glock:', 'two', 'in', 'the', 'chest,', 'one', 'in', 'the', 'arm,', 'and', 'one', 'in', 'the', 'thigh.', 'He', 'died', 'from', 'his', 'wounds', 'six', 'days', 'later.']\n",
      "['On', 'September', '29,', '2023,', '27', 'years', 'later,', 'Duane', '\"Keefe', 'D\"', 'Davis', 'was', 'arrested', 'after', 'being', 'indicted', 'by', 'a', 'grand', 'jury', 'for', 'the', 'first-degree', 'murder', 'of', 'Shakur.']\n",
      "['====================================================', 'KATA', 'UNIK', 'DALAM', 'FILE', '====================================================']\n",
      "[\"['On',\", \"'September',\", \"'7,',\", \"'1996,',\", \"'at',\", \"'11:15',\", \"'p.m.',\", \"'(PDT),',\", \"'Tupac',\", \"'Shakur,',\", \"'a',\", \"'25-year',\", \"'old',\", \"'American',\", \"'rapper,',\", \"'was',\", \"'fatally',\", \"'shot',\", \"'in',\", \"'a',\", \"'drive-by',\", \"'shooting',\", \"'in',\", \"'Las',\", \"'Vegas,',\", \"'Nevada.',\", \"'The',\", \"'shooting',\", \"'occurred',\", \"'when',\", \"'the',\", \"'car',\", \"'carrying',\", \"'Shakur',\", \"'was',\", \"'stopped',\", \"'at',\", \"'a',\", \"'red',\", \"'light',\", \"'at',\", \"'East',\", \"'Flamingo',\", \"'Road',\", \"'and',\", \"'Koval',\", \"'Lane.']\"]\n",
      "[\"['Shakur',\", \"'was',\", \"'struck',\", \"'by',\", \"'four',\", \"'rounds',\", \"'fired',\", \"'from',\", \"'a',\", \"'.40-calibre',\", \"'Glock:',\", \"'two',\", \"'in',\", \"'the',\", \"'chest,',\", \"'one',\", \"'in',\", \"'the',\", \"'arm,',\", \"'and',\", \"'one',\", \"'in',\", \"'the',\", \"'thigh.',\", \"'He',\", \"'died',\", \"'from',\", \"'his',\", \"'wounds',\", \"'six',\", \"'days',\", \"'later.']\"]\n",
      "[\"['On',\", \"'September',\", \"'29,',\", \"'2023,',\", \"'27',\", \"'years',\", \"'later,',\", \"'Duane',\", '\\'\"Keefe\\',', '\\'D\"\\',', \"'Davis',\", \"'was',\", \"'arrested',\", \"'after',\", \"'being',\", \"'indicted',\", \"'by',\", \"'a',\", \"'grand',\", \"'jury',\", \"'for',\", \"'the',\", \"'first-degree',\", \"'murder',\", \"'of',\", \"'Shakur.']\"]\n"
     ]
    }
   ],
   "source": [
    "#soal 9-3\n",
    "def k_u(file):\n",
    "    kataunik = []\n",
    "    try:\n",
    "        with open(file, 'r') as buka_file:\n",
    "            isi_file = buka_file.read()\n",
    "            print (\"==================================================== ISI BERITA ====================================================\")\n",
    "            print(isi_file)\n",
    "        with open(file, 'r') as buka_file:\n",
    "            for line in buka_file:\n",
    "                kata = line.strip().split()\n",
    "                kataunik.append(kata)\n",
    "    except FileNotFoundError:\n",
    "        print('file tidak ditemukan')\n",
    "    return kataunik\n",
    "def main():\n",
    "    file = 'file1.txt'\n",
    "\n",
    "    kataunik = k_u(file)\n",
    "    print(\"==================================================== KATA UNIK DALAM FILE ====================================================\")\n",
    "    for kata in kataunik:\n",
    "        print(kata)\n",
    "\n",
    "if __name__ == '__main__':\n",
    "    main()"
   ]
  }
 ],
 "metadata": {
  "kernelspec": {
   "display_name": "Python 3",
   "language": "python",
   "name": "python3"
  },
  "language_info": {
   "codemirror_mode": {
    "name": "ipython",
    "version": 3
   },
   "file_extension": ".py",
   "mimetype": "text/x-python",
   "name": "python",
   "nbconvert_exporter": "python",
   "pygments_lexer": "ipython3",
   "version": "3.12.0"
  }
 },
 "nbformat": 4,
 "nbformat_minor": 2
}
